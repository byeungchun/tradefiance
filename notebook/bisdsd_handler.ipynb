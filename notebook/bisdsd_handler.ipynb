{
 "cells": [
  {
   "cell_type": "code",
   "execution_count": 1,
   "metadata": {},
   "outputs": [],
   "source": [
    "import os"
   ]
  },
  {
   "cell_type": "code",
   "execution_count": 2,
   "metadata": {},
   "outputs": [],
   "source": [
    "os.chdir(r'e:\\workspace\\lbsdot')"
   ]
  },
  {
   "cell_type": "code",
   "execution_count": 3,
   "metadata": {},
   "outputs": [],
   "source": [
    "from lbsdot.xmlparser import getCodelist, getKeyfamilies"
   ]
  },
  {
   "cell_type": "code",
   "execution_count": 4,
   "metadata": {},
   "outputs": [],
   "source": [
    "bisdsd = r'E:\\data\\ibfs\\meta\\BIS-DSD.20.xml'\n",
    "kf = getKeyfamilies(bisdsd)\n",
    "code = getCodelist(bisdsd)"
   ]
  },
  {
   "cell_type": "markdown",
   "metadata": {},
   "source": [
    "### LBS sample \n",
    "```\n",
    "BIS_LBS_N_D_REST:Q:S:C:A:TO1:A:5J:A:5A:A:KR:A\n",
    "\n",
    "               FREQ: (Q)'Quarterly'\n",
    "          L_MEASURE: (S)'Amounts outstanding / Stocks'\n",
    "         L_POSITION: (C)'Total claims'\n",
    "            L_INSTR: (A)'All instruments'\n",
    "            L_DENOM: (TO1)'All currencies'\n",
    "        L_CURR_TYPE: (A)'All currencies (=D+F+U)'\n",
    "       L_PARENT_CTY: (5J)'All countries (total)'\n",
    "    L_REP_BANK_TYPE: (A)'All reporting banks/institutions (domestic, foreign, consortium and unclassified)'\n",
    "          L_REP_CTY: (5A)'All reporting countries'\n",
    "        L_CP_SECTOR: (A)'All sectors'\n",
    "       L_CP_COUNTRY: (KR)'Korea'\n",
    "         L_POS_TYPE: (A)'All'\n",
    "\n",
    "```"
   ]
  },
  {
   "cell_type": "markdown",
   "metadata": {},
   "source": [
    "### Storing dimensions to Mongodb"
   ]
  },
  {
   "cell_type": "code",
   "execution_count": 21,
   "metadata": {},
   "outputs": [],
   "source": [
    "from pymongo import MongoClient\n",
    "mongoclient = MongoClient(unicode_decode_error_handler='ignore')"
   ]
  },
  {
   "cell_type": "code",
   "execution_count": 22,
   "metadata": {},
   "outputs": [],
   "source": [
    "for x in code:\n",
    "    _res = {'dimension': x}\n",
    "    _res.update(code[x])\n",
    "    mongoclient.lbsdot.dsd_dimension.insert_one(_res)"
   ]
  },
  {
   "cell_type": "code",
   "execution_count": 23,
   "metadata": {},
   "outputs": [],
   "source": [
    "mongoclient.close()"
   ]
  },
  {
   "cell_type": "code",
   "execution_count": 20,
   "metadata": {},
   "outputs": [
    {
     "name": "stdout",
     "output_type": "stream",
     "text": [
      "{'dimension': 'ALV', 'name': 'Attachment level code list (ECB, BIS)', 'code': {'1': 'Data set', '4': 'Time series', '5': 'Observation', '9': 'Sibling group'}}\n"
     ]
    }
   ],
   "source": [
    "for x in code:\n",
    "    _res = {'dimension': x}\n",
    "    _res.update(code[x])\n",
    "    print(_res)\n",
    "    break"
   ]
  },
  {
   "cell_type": "code",
   "execution_count": 5,
   "metadata": {},
   "outputs": [
    {
     "data": {
      "text/plain": [
       "{'agencyid': 'BIS',\n",
       " 'urn': 'urn:sdmx:org.sdmx.infomodel.datastructure.DataStructure=BIS:BIS_LBS_DISS(1.0)',\n",
       " 'version': '1.0',\n",
       " 'name': <Element '{http://www.SDMX.org/resources/SDMXML/schemas/v2_0/structure}Name' at 0x0000000006CA97C8>,\n",
       " 'dimension': ['CL_FREQ',\n",
       "  'CL_STOCK_FLOW',\n",
       "  'CL_L_POSITION',\n",
       "  'CL_L_INSTR',\n",
       "  'CL_CURRENCY_3POS',\n",
       "  'CL_L_CURR_TYPE',\n",
       "  'CL_BIS_IF_REF_AREA',\n",
       "  'CL_L_BANK_TYPE',\n",
       "  'CL_BIS_IF_REF_AREA',\n",
       "  'CL_L_SECTOR',\n",
       "  'CL_BIS_IF_REF_AREA',\n",
       "  'CL_L_POS_TYPE'],\n",
       " 'concept': ['FREQ',\n",
       "  'L_MEASURE',\n",
       "  'L_POSITION',\n",
       "  'L_INSTR',\n",
       "  'L_DENOM',\n",
       "  'L_CURR_TYPE',\n",
       "  'L_PARENT_CTY',\n",
       "  'L_REP_BANK_TYPE',\n",
       "  'L_REP_CTY',\n",
       "  'L_CP_SECTOR',\n",
       "  'L_CP_COUNTRY',\n",
       "  'L_POS_TYPE']}"
      ]
     },
     "execution_count": 5,
     "metadata": {},
     "output_type": "execute_result"
    }
   ],
   "source": [
    "kf['BIS_LBS_DISS']"
   ]
  },
  {
   "cell_type": "code",
   "execution_count": null,
   "metadata": {},
   "outputs": [],
   "source": []
  }
 ],
 "metadata": {
  "kernelspec": {
   "display_name": "Python 3",
   "language": "python",
   "name": "python3"
  },
  "language_info": {
   "codemirror_mode": {
    "name": "ipython",
    "version": 3
   },
   "file_extension": ".py",
   "mimetype": "text/x-python",
   "name": "python",
   "nbconvert_exporter": "python",
   "pygments_lexer": "ipython3",
   "version": "3.7.3"
  }
 },
 "nbformat": 4,
 "nbformat_minor": 2
}
