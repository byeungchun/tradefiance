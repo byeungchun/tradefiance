{
 "cells": [
  {
   "cell_type": "code",
   "execution_count": 1,
   "metadata": {},
   "outputs": [],
   "source": [
    "from pymongo import MongoClient"
   ]
  },
  {
   "cell_type": "code",
   "execution_count": 2,
   "metadata": {},
   "outputs": [],
   "source": [
    "mgclient = MongoClient(unicode_decode_error_handler='ignore')"
   ]
  },
  {
   "cell_type": "code",
   "execution_count": 3,
   "metadata": {},
   "outputs": [
    {
     "data": {
      "text/plain": [
       "['Goods, Value of Exports, Free on board (FOB), US Dollars',\n",
       " 'Goods, Value of Imports, Cost, Insurance, Freight (CIF), US Dollars',\n",
       " 'Goods, Value of Trade Balance, US Dollars',\n",
       " 'Goods, Value of Imports, Free on board (FOB), US Dollars']"
      ]
     },
     "execution_count": 3,
     "metadata": {},
     "output_type": "execute_result"
    }
   ],
   "source": [
    "mgclient.lbsdot.raw_dot.distinct('Indicator Name')"
   ]
  },
  {
   "cell_type": "code",
   "execution_count": 6,
   "metadata": {},
   "outputs": [],
   "source": [
    "import pycountry"
   ]
  },
  {
   "cell_type": "code",
   "execution_count": 7,
   "metadata": {},
   "outputs": [
    {
     "name": "stdout",
     "output_type": "stream",
     "text": [
      "{'AR': 80}\n"
     ]
    },
    {
     "data": {
      "text/plain": [
       "[Country(alpha_2='AR', alpha_3='ARG', name='Argentina', numeric='032', official_name='Argentine Republic')]"
      ]
     },
     "execution_count": 7,
     "metadata": {},
     "output_type": "execute_result"
    }
   ],
   "source": [
    "pycountry.countries.search_fuzzy('Argentina')"
   ]
  },
  {
   "cell_type": "code",
   "execution_count": 10,
   "metadata": {},
   "outputs": [
    {
     "data": {
      "text/plain": [
       "['Argentina',\n",
       " 'Advanced Economies',\n",
       " 'Africa',\n",
       " 'Algeria',\n",
       " 'Albania',\n",
       " 'Angola',\n",
       " 'Afghanistan, Islamic Republic of',\n",
       " 'Anguilla',\n",
       " 'American Samoa',\n",
       " 'Antigua and Barbuda',\n",
       " 'Bahamas, The',\n",
       " 'Bahrain, Kingdom of',\n",
       " 'Belarus',\n",
       " 'Bangladesh',\n",
       " 'Barbados',\n",
       " 'Australia',\n",
       " 'Austria',\n",
       " 'Aruba',\n",
       " 'Armenia, Republic of',\n",
       " 'Azerbaijan, Republic of',\n",
       " 'Bosnia and Herzegovina',\n",
       " 'Belgium-Luxembourg',\n",
       " 'Bolivia',\n",
       " 'Belgium',\n",
       " 'Brazil',\n",
       " 'Bermuda',\n",
       " 'Benin',\n",
       " 'Belize',\n",
       " 'Bhutan',\n",
       " 'Botswana',\n",
       " 'Canada',\n",
       " 'Cameroon',\n",
       " 'Burundi',\n",
       " 'Burkina Faso',\n",
       " 'Cabo Verde',\n",
       " 'Bulgaria',\n",
       " 'Cambodia',\n",
       " 'Brunei Darussalam',\n",
       " 'Chad',\n",
       " 'Central African Republic',\n",
       " 'China, P.R.: Hong Kong',\n",
       " 'Colombia',\n",
       " 'China, P.R.: Mainland',\n",
       " 'Congo, Republic of',\n",
       " 'Chile',\n",
       " 'China, P.R.: Macao',\n",
       " 'Comoros',\n",
       " 'CIS',\n",
       " 'Costa Rica',\n",
       " 'Congo, Democratic Republic of',\n",
       " 'Denmark',\n",
       " 'Dominica',\n",
       " 'Cyprus',\n",
       " \"Côte d'Ivoire\",\n",
       " 'Croatia',\n",
       " 'Czech Republic',\n",
       " 'Cuba',\n",
       " 'Czechoslovakia',\n",
       " 'Djibouti',\n",
       " 'Curaçao',\n",
       " 'Dominican Republic',\n",
       " 'Ecuador',\n",
       " 'Egypt',\n",
       " 'Emerging and Developing Economies',\n",
       " 'Emerging and Developing Europe',\n",
       " 'Emerging and Developing Asia',\n",
       " 'El Salvador',\n",
       " 'Equatorial Guinea',\n",
       " 'Eastern Germany',\n",
       " 'Eritrea',\n",
       " 'Export earnings: nonfuel',\n",
       " 'European Union',\n",
       " 'Export earnings: fuel',\n",
       " 'Europe',\n",
       " 'Ethiopia',\n",
       " 'Faroe Islands',\n",
       " 'Estonia',\n",
       " 'Euro Area',\n",
       " 'Falkland Islands',\n",
       " 'Eswatini, Kingdom of',\n",
       " 'Georgia',\n",
       " 'Gambia, The',\n",
       " 'Ghana',\n",
       " 'French Territories: New Caledonia',\n",
       " 'Finland',\n",
       " 'Germany',\n",
       " 'Gabon',\n",
       " 'Fiji',\n",
       " 'France',\n",
       " 'French Territories: French Polynesia',\n",
       " 'Guinea',\n",
       " 'Guatemala',\n",
       " 'Greece',\n",
       " 'Greenland',\n",
       " 'Haiti',\n",
       " 'Guinea-Bissau',\n",
       " 'Guyana',\n",
       " 'Grenada',\n",
       " 'Gibraltar',\n",
       " 'Guam',\n",
       " 'Honduras',\n",
       " 'Israel',\n",
       " 'Hungary',\n",
       " 'Indonesia',\n",
       " 'Ireland',\n",
       " 'India',\n",
       " 'Iceland',\n",
       " 'Iraq',\n",
       " 'Iran, Islamic Republic of',\n",
       " 'Italy',\n",
       " 'Jordan',\n",
       " 'Japan',\n",
       " 'Kuwait',\n",
       " 'Kenya',\n",
       " 'Korea, Republic of',\n",
       " 'Kazakhstan',\n",
       " \"Korea, Democratic People's Rep. of\",\n",
       " 'Jamaica',\n",
       " 'Kiribati',\n",
       " 'Kosovo, Republic of',\n",
       " 'Kyrgyz Republic',\n",
       " \"Lao People's Democratic Republic\",\n",
       " 'Luxembourg',\n",
       " 'Latvia',\n",
       " 'Lebanon',\n",
       " 'Madagascar',\n",
       " 'Libya',\n",
       " 'Lithuania',\n",
       " 'Liberia',\n",
       " 'Lesotho',\n",
       " 'Mexico',\n",
       " 'Malta',\n",
       " 'Malaysia',\n",
       " 'Mauritania',\n",
       " 'Malawi',\n",
       " 'Mauritius',\n",
       " 'Mali',\n",
       " 'Maldives',\n",
       " 'Marshall Islands, Republic of',\n",
       " 'Micronesia, Federated States of',\n",
       " 'Mozambique',\n",
       " 'Middle East, North Africa, Afghanistan, and Pakistan',\n",
       " 'Morocco',\n",
       " 'Montenegro',\n",
       " 'Mongolia',\n",
       " 'Moldova',\n",
       " 'Myanmar',\n",
       " 'Middle East',\n",
       " 'Montserrat',\n",
       " 'Namibia',\n",
       " 'Netherlands Antilles',\n",
       " 'Netherlands',\n",
       " 'Nigeria',\n",
       " 'Nicaragua',\n",
       " 'Niger',\n",
       " 'Nepal',\n",
       " 'Norway',\n",
       " 'New Zealand',\n",
       " 'North Macedonia, Republic of',\n",
       " 'Nauru',\n",
       " 'Other Countries not included elsewhere',\n",
       " 'Peru',\n",
       " 'Panama',\n",
       " 'Oman',\n",
       " 'Papua New Guinea',\n",
       " 'Poland',\n",
       " 'Philippines',\n",
       " 'Pakistan',\n",
       " 'Paraguay',\n",
       " 'Palau',\n",
       " 'Russian Federation',\n",
       " 'Senegal',\n",
       " 'Romania',\n",
       " 'Qatar',\n",
       " 'Portugal',\n",
       " 'Samoa',\n",
       " 'Saudi Arabia',\n",
       " 'Rwanda',\n",
       " 'São Tomé & Príncipe',\n",
       " 'San Marino',\n",
       " 'Sierra Leone',\n",
       " 'Slovenia',\n",
       " 'Solomon Islands',\n",
       " 'Singapore',\n",
       " 'Seychelles',\n",
       " 'Slovak Republic',\n",
       " 'Serbia, Republic of',\n",
       " 'Somalia',\n",
       " 'Serbia and Montenegro',\n",
       " 'Sint Maarten',\n",
       " 'Spain',\n",
       " 'Sub-Saharan Africa',\n",
       " 'South African Common Customs Area (SACCA)',\n",
       " 'South Africa',\n",
       " 'Sri Lanka',\n",
       " 'Sudan',\n",
       " 'St. Vincent and the Grenadines',\n",
       " 'St. Kitts and Nevis',\n",
       " 'St. Lucia',\n",
       " 'South Sudan',\n",
       " 'Switzerland',\n",
       " 'Sweden',\n",
       " 'Syrian Arab Republic',\n",
       " 'Tanzania',\n",
       " 'Thailand',\n",
       " 'Suriname',\n",
       " 'Tonga',\n",
       " 'Tajikistan',\n",
       " 'Togo',\n",
       " 'Timor-Leste, Dem. Rep. of',\n",
       " 'United Kingdom',\n",
       " 'Tunisia',\n",
       " 'Trinidad and Tobago',\n",
       " 'Turkey',\n",
       " 'United Arab Emirates',\n",
       " 'Ukraine',\n",
       " 'U.S.S.R.',\n",
       " 'Turkmenistan',\n",
       " 'Uganda',\n",
       " 'Tuvalu',\n",
       " 'World',\n",
       " 'Western Hemisphere',\n",
       " 'Vietnam',\n",
       " 'Venezuela, Republica Bolivariana de',\n",
       " 'United States',\n",
       " 'Uruguay',\n",
       " 'Uzbekistan',\n",
       " 'Vanuatu',\n",
       " 'West Bank and Gaza',\n",
       " 'Vatican',\n",
       " 'Zimbabwe',\n",
       " 'Yugoslavia, SFR',\n",
       " 'Zambia',\n",
       " 'Yemen, Republic of',\n",
       " 'Yemen Arab Rep.',\n",
       " 'Yemen, P.D. Rep.']"
      ]
     },
     "execution_count": 10,
     "metadata": {},
     "output_type": "execute_result"
    }
   ],
   "source": [
    "mgclient.lbsdot.raw_dot.distinct('Country Name')"
   ]
  },
  {
   "cell_type": "code",
   "execution_count": 53,
   "metadata": {},
   "outputs": [],
   "source": [
    "result = mgclient.lbsdot.raw_dot.aggregate( \n",
    "            [\n",
    "                {\"$group\": { \"_id\": { 'Country Code': \"$Country Code\", 'Country Name': \"$Country Name\" } } }\n",
    "            ]\n",
    "        );"
   ]
  },
  {
   "cell_type": "code",
   "execution_count": 14,
   "metadata": {},
   "outputs": [],
   "source": [
    "ccode = [ list(x['cclist'].keys()) for x in mgclient.lbsdot.countrygroup.find({'code':'AEM'})][0]"
   ]
  },
  {
   "cell_type": "code",
   "execution_count": 39,
   "metadata": {},
   "outputs": [],
   "source": [
    "ccodeimf = [str(x['imfnumeric']) for x in mgclient.lbsdot.countrytable.find({\"iso2\": { \"$in\": ccode}})]"
   ]
  },
  {
   "cell_type": "code",
   "execution_count": 60,
   "metadata": {},
   "outputs": [],
   "source": [
    "res = [x for x in mgclient.lbsdot.raw_dot.find({\n",
    "    'Country Code':{\"$in\":ccodeimf},\n",
    "    'Counterpart Country Code':{\"$in\":ccodeimf},\n",
    "    'Indicator Code': 'TXG_FOB_USD',\n",
    "    'freq': 'Q'\n",
    "\n",
    "})]"
   ]
  },
  {
   "cell_type": "code",
   "execution_count": 47,
   "metadata": {},
   "outputs": [
    {
     "data": {
      "text/plain": [
       "29477"
      ]
     },
     "execution_count": 47,
     "metadata": {},
     "output_type": "execute_result"
    }
   ],
   "source": [
    "mgclient.lbsdot.raw_dot.count_documents({'Country Code':{\"$in\":ccodeimf}})"
   ]
  },
  {
   "cell_type": "code",
   "execution_count": 55,
   "metadata": {},
   "outputs": [
    {
     "data": {
      "text/plain": [
       "[{'_id': {'Indicator Name': 'Goods, Value of Trade Balance, US Dollars',\n",
       "   'Indicator Code': 'TBG_USD'}},\n",
       " {'_id': {'Indicator Name': 'Goods, Value of Imports, Free on board (FOB), US Dollars',\n",
       "   'Indicator Code': 'TMG_FOB_USD'}},\n",
       " {'_id': {'Indicator Name': 'Goods, Value of Imports, Cost, Insurance, Freight (CIF), US Dollars',\n",
       "   'Indicator Code': 'TMG_CIF_USD'}},\n",
       " {'_id': {'Indicator Name': 'Goods, Value of Exports, Free on board (FOB), US Dollars',\n",
       "   'Indicator Code': 'TXG_FOB_USD'}}]"
      ]
     },
     "execution_count": 55,
     "metadata": {},
     "output_type": "execute_result"
    }
   ],
   "source": [
    "[x for x in mgclient.lbsdot.raw_dot.aggregate([\n",
    "    {\"$group\":{\"_id\":{'Indicator Name':'$Indicator Name', 'Indicator Code':'$Indicator Code'}}}\n",
    "])]"
   ]
  },
  {
   "cell_type": "code",
   "execution_count": 22,
   "metadata": {},
   "outputs": [
    {
     "data": {
      "text/plain": [
       "[]"
      ]
     },
     "execution_count": 22,
     "metadata": {},
     "output_type": "execute_result"
    }
   ],
   "source": [
    "ccode_aem = [list(x['cclist'].keys()) for x in mgclient.lbsdot.countrygroup.find({'code':'AEM'})][0]\n",
    "[x['L_CP_COUNTRY'] for x in mgclient.lbsdot.raw_LBSN_sample.find({\n",
    "    'L_REP_CTY': {'$in': ccode_aem}\n",
    "    ,'L_CP_COUNTRY':{'$nin': ['5J','5M']}\n",
    "})][0:100]"
   ]
  },
  {
   "cell_type": "code",
   "execution_count": 23,
   "metadata": {},
   "outputs": [
    {
     "data": {
      "text/plain": [
       "[{'_id': ObjectId('5d3aafe5126a14cce242094d'),\n",
       "  'code': 'AEM',\n",
       "  'name': 'Advanced industrial economies (major)',\n",
       "  'cclist': {'5R': 'Advanced economies (aggregate)',\n",
       "   'AU': 'Australia',\n",
       "   'CA': 'Canada',\n",
       "   'DK': 'Denmark',\n",
       "   'FR': 'France',\n",
       "   'DE': 'Germany',\n",
       "   'IT': 'Italy',\n",
       "   'JP': 'Japan',\n",
       "   'NO': 'Norway',\n",
       "   'ES': 'Spain',\n",
       "   'SE': 'Sweden',\n",
       "   'CH': 'Switzerland',\n",
       "   'GB': 'United Kingdom',\n",
       "   'US': 'United States'}}]"
      ]
     },
     "execution_count": 23,
     "metadata": {},
     "output_type": "execute_result"
    }
   ],
   "source": [
    "[ x for x in mgclient.lbsdot.countrygroup.find({'code':'AEM'})]"
   ]
  },
  {
   "cell_type": "code",
   "execution_count": null,
   "metadata": {},
   "outputs": [],
   "source": []
  }
 ],
 "metadata": {
  "kernelspec": {
   "display_name": "Python 3",
   "language": "python",
   "name": "python3"
  },
  "language_info": {
   "codemirror_mode": {
    "name": "ipython",
    "version": 3
   },
   "file_extension": ".py",
   "mimetype": "text/x-python",
   "name": "python",
   "nbconvert_exporter": "python",
   "pygments_lexer": "ipython3",
   "version": "3.7.3"
  }
 },
 "nbformat": 4,
 "nbformat_minor": 2
}
