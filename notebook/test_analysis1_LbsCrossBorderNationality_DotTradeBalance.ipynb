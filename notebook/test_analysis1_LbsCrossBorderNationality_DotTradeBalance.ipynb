{
 "cells": [
  {
   "cell_type": "markdown",
   "metadata": {},
   "source": [
    "### Sample test 1: LBS balance and DOT balance\n",
    "\n",
    "#### LBS code : https://stats.bis.org/statx/srs/table/A4?c=&p=20191&m=S&f=TSKEYS\n",
    "<pre>\n",
    "1. Claim\n",
    "Q:S:C:A:TO1:A:##:A:5A:A:##:N\n",
    "    *          |         |\n",
    "               |         To country\n",
    "               From country               \n",
    "\n",
    "2. Liability\n",
    "Q:S:L:A:TO1:A:##:A:5A:A:##:N\n",
    "    *          |         |\n",
    "               |         To country\n",
    "               From country\n",
    "               \n",
    "3. Balance\n",
    "(Q:S:C:A:TO1:A:##:A:5A:A:##:N) - (Q:S:L:A:TO1:A:##:A:5A:A:##:N)\n",
    "</pre>\n",
    "\n",
    "\n",
    "#### DOT code\n",
    "<pre>\n",
    "1. Balance\n",
    "Q:##:B:##\n",
    "   |    |\n",
    "   |    To country\n",
    "   From country\n",
    "</pre>"
   ]
  },
  {
   "cell_type": "markdown",
   "metadata": {},
   "source": [
    "### Data retrieval"
   ]
  },
  {
   "cell_type": "code",
   "execution_count": 1,
   "metadata": {},
   "outputs": [],
   "source": [
    "import pandas as pd\n",
    "from pymongo import MongoClient"
   ]
  },
  {
   "cell_type": "code",
   "execution_count": 2,
   "metadata": {},
   "outputs": [],
   "source": [
    "mgclient = MongoClient(unicode_decode_error_handler='ignore')"
   ]
  },
  {
   "cell_type": "code",
   "execution_count": 3,
   "metadata": {},
   "outputs": [],
   "source": [
    "res = mgclient.lbsdot.countrygroup.find({'code':'OECD'})\n",
    "oecd_cclist = list(res.next()['cclist'].keys())"
   ]
  },
  {
   "cell_type": "code",
   "execution_count": 4,
   "metadata": {},
   "outputs": [
    {
     "name": "stdout",
     "output_type": "stream",
     "text": [
      "#claim:806, #liability:814\n"
     ]
    }
   ],
   "source": [
    "# Count number of claims on LBS for OECD countries\n",
    "\n",
    "num_claim = mgclient.lbsdot.raw_lbsn2.count_documents({\n",
    "    \"FREQ\":\"Q\",\n",
    "    \"L_MEASURE\":\"S\",\n",
    "    \"L_POSITION\":\"C\",  #C: Claim\n",
    "    \"L_INSTR\":\"A\",\n",
    "    \"L_DENOM\":\"TO1\",\n",
    "    \"L_CURR_TYPE\":\"A\",\n",
    "    \"L_PARENT_CTY\":{'$in': oecd_cclist},\n",
    "    \"L_REP_BANK_TYPE\":\"A\",\n",
    "    \"L_REP_CTY\":\"5A\",\n",
    "    \"L_CP_SECTOR\":\"A\",\n",
    "    \"L_CP_COUNTRY\":{'$in': oecd_cclist},\n",
    "    \"L_POS_TYPE\":\"N\"  #N: Cross-border\n",
    "})\n",
    "\n",
    "\n",
    "num_liability = mgclient.lbsdot.raw_lbsn2.count_documents({\n",
    "    \"FREQ\":\"Q\",\n",
    "    \"L_MEASURE\":\"S\",\n",
    "    \"L_POSITION\":\"L\",  #L: Liability\n",
    "    \"L_INSTR\":\"A\",\n",
    "    \"L_DENOM\":\"TO1\",\n",
    "    \"L_CURR_TYPE\":\"A\",\n",
    "    \"L_PARENT_CTY\":{'$in': oecd_cclist},\n",
    "    \"L_REP_BANK_TYPE\":\"A\",\n",
    "    \"L_REP_CTY\":\"5A\",\n",
    "    \"L_CP_SECTOR\":\"A\",\n",
    "    \"L_CP_COUNTRY\":{'$in': oecd_cclist},\n",
    "    \"L_POS_TYPE\":\"N\"  #N: Cross-border\n",
    "})\n",
    "\n",
    "print('#claim:{}, #liability:{}'.format(num_claim, num_liability))"
   ]
  },
  {
   "cell_type": "code",
   "execution_count": 5,
   "metadata": {},
   "outputs": [],
   "source": [
    "claim_iter = mgclient.lbsdot.raw_lbsn2.find({\n",
    "    \"FREQ\":\"Q\",\n",
    "    \"L_MEASURE\":\"S\",\n",
    "    \"L_POSITION\":\"C\",  #C: Claim\n",
    "    \"L_INSTR\":\"A\",\n",
    "    \"L_DENOM\":\"TO1\",\n",
    "    \"L_CURR_TYPE\":\"A\",\n",
    "    \"L_PARENT_CTY\":{'$in': oecd_cclist},\n",
    "    \"L_REP_BANK_TYPE\":\"A\",\n",
    "    \"L_REP_CTY\":\"5A\",\n",
    "    \"L_CP_SECTOR\":\"A\",\n",
    "    \"L_CP_COUNTRY\":{'$in': oecd_cclist},\n",
    "    \"L_POS_TYPE\":\"N\"  #N: Cross-border\n",
    "})"
   ]
  },
  {
   "cell_type": "code",
   "execution_count": 6,
   "metadata": {},
   "outputs": [],
   "source": [
    "claim_df = pd.DataFrame(list(claim_iter))"
   ]
  },
  {
   "cell_type": "code",
   "execution_count": 7,
   "metadata": {},
   "outputs": [
    {
     "data": {
      "text/html": [
       "<div>\n",
       "<style scoped>\n",
       "    .dataframe tbody tr th:only-of-type {\n",
       "        vertical-align: middle;\n",
       "    }\n",
       "\n",
       "    .dataframe tbody tr th {\n",
       "        vertical-align: top;\n",
       "    }\n",
       "\n",
       "    .dataframe thead th {\n",
       "        text-align: right;\n",
       "    }\n",
       "</style>\n",
       "<table border=\"1\" class=\"dataframe\">\n",
       "  <thead>\n",
       "    <tr style=\"text-align: right;\">\n",
       "      <th></th>\n",
       "      <th>_id</th>\n",
       "      <th>timeseries</th>\n",
       "      <th>FREQ</th>\n",
       "      <th>L_MEASURE</th>\n",
       "      <th>L_POSITION</th>\n",
       "      <th>L_INSTR</th>\n",
       "      <th>L_DENOM</th>\n",
       "      <th>L_CURR_TYPE</th>\n",
       "      <th>L_PARENT_CTY</th>\n",
       "      <th>L_REP_BANK_TYPE</th>\n",
       "      <th>L_REP_CTY</th>\n",
       "      <th>L_CP_SECTOR</th>\n",
       "      <th>L_CP_COUNTRY</th>\n",
       "      <th>L_POS_TYPE</th>\n",
       "    </tr>\n",
       "  </thead>\n",
       "  <tbody>\n",
       "    <tr>\n",
       "      <th>0</th>\n",
       "      <td>5d3ed151e5c38b7bc2664030</td>\n",
       "      <td>[[20120630, 5445.263], [20120930, 6194.032], [...</td>\n",
       "      <td>Q</td>\n",
       "      <td>S</td>\n",
       "      <td>C</td>\n",
       "      <td>A</td>\n",
       "      <td>TO1</td>\n",
       "      <td>A</td>\n",
       "      <td>AT</td>\n",
       "      <td>A</td>\n",
       "      <td>5A</td>\n",
       "      <td>A</td>\n",
       "      <td>AT</td>\n",
       "      <td>N</td>\n",
       "    </tr>\n",
       "  </tbody>\n",
       "</table>\n",
       "</div>"
      ],
      "text/plain": [
       "                        _id  \\\n",
       "0  5d3ed151e5c38b7bc2664030   \n",
       "\n",
       "                                          timeseries FREQ L_MEASURE  \\\n",
       "0  [[20120630, 5445.263], [20120930, 6194.032], [...    Q         S   \n",
       "\n",
       "  L_POSITION L_INSTR L_DENOM L_CURR_TYPE L_PARENT_CTY L_REP_BANK_TYPE  \\\n",
       "0          C       A     TO1           A           AT               A   \n",
       "\n",
       "  L_REP_CTY L_CP_SECTOR L_CP_COUNTRY L_POS_TYPE  \n",
       "0        5A           A           AT          N  "
      ]
     },
     "execution_count": 7,
     "metadata": {},
     "output_type": "execute_result"
    }
   ],
   "source": [
    "claim_df.head(1)"
   ]
  },
  {
   "cell_type": "code",
   "execution_count": 55,
   "metadata": {},
   "outputs": [],
   "source": [
    "liability_iter = mgclient.lbsdot.raw_lbsn2.find({\n",
    "    \"FREQ\":\"Q\",\n",
    "    \"L_MEASURE\":\"S\",\n",
    "    \"L_POSITION\":\"L\",  #L: Liability\n",
    "    \"L_INSTR\":\"A\",\n",
    "    \"L_DENOM\":\"TO1\",\n",
    "    \"L_CURR_TYPE\":\"A\",\n",
    "    \"L_PARENT_CTY\":{'$in': oecd_cclist},\n",
    "    \"L_REP_BANK_TYPE\":\"A\",\n",
    "    \"L_REP_CTY\":\"5A\",\n",
    "    \"L_CP_SECTOR\":\"A\",\n",
    "    \"L_CP_COUNTRY\":{'$in': oecd_cclist},\n",
    "    \"L_POS_TYPE\":\"N\"  #N: Cross-border\n",
    "})"
   ]
  },
  {
   "cell_type": "code",
   "execution_count": 57,
   "metadata": {},
   "outputs": [],
   "source": [
    "liability_df = pd.DataFrame(list(liability_iter))"
   ]
  },
  {
   "cell_type": "code",
   "execution_count": 58,
   "metadata": {},
   "outputs": [
    {
     "data": {
      "text/html": [
       "<div>\n",
       "<style scoped>\n",
       "    .dataframe tbody tr th:only-of-type {\n",
       "        vertical-align: middle;\n",
       "    }\n",
       "\n",
       "    .dataframe tbody tr th {\n",
       "        vertical-align: top;\n",
       "    }\n",
       "\n",
       "    .dataframe thead th {\n",
       "        text-align: right;\n",
       "    }\n",
       "</style>\n",
       "<table border=\"1\" class=\"dataframe\">\n",
       "  <thead>\n",
       "    <tr style=\"text-align: right;\">\n",
       "      <th></th>\n",
       "      <th>_id</th>\n",
       "      <th>timeseries</th>\n",
       "      <th>FREQ</th>\n",
       "      <th>L_MEASURE</th>\n",
       "      <th>L_POSITION</th>\n",
       "      <th>L_INSTR</th>\n",
       "      <th>L_DENOM</th>\n",
       "      <th>L_CURR_TYPE</th>\n",
       "      <th>L_PARENT_CTY</th>\n",
       "      <th>L_REP_BANK_TYPE</th>\n",
       "      <th>L_REP_CTY</th>\n",
       "      <th>L_CP_SECTOR</th>\n",
       "      <th>L_CP_COUNTRY</th>\n",
       "      <th>L_POS_TYPE</th>\n",
       "    </tr>\n",
       "  </thead>\n",
       "  <tbody>\n",
       "    <tr>\n",
       "      <th>0</th>\n",
       "      <td>5d3edb1fe5c38b7bc2862ff0</td>\n",
       "      <td>[[20120630, 9482.634], [20120930, 8974.387], [...</td>\n",
       "      <td>Q</td>\n",
       "      <td>S</td>\n",
       "      <td>L</td>\n",
       "      <td>A</td>\n",
       "      <td>TO1</td>\n",
       "      <td>A</td>\n",
       "      <td>AT</td>\n",
       "      <td>A</td>\n",
       "      <td>5A</td>\n",
       "      <td>A</td>\n",
       "      <td>AT</td>\n",
       "      <td>N</td>\n",
       "    </tr>\n",
       "  </tbody>\n",
       "</table>\n",
       "</div>"
      ],
      "text/plain": [
       "                        _id  \\\n",
       "0  5d3edb1fe5c38b7bc2862ff0   \n",
       "\n",
       "                                          timeseries FREQ L_MEASURE  \\\n",
       "0  [[20120630, 9482.634], [20120930, 8974.387], [...    Q         S   \n",
       "\n",
       "  L_POSITION L_INSTR L_DENOM L_CURR_TYPE L_PARENT_CTY L_REP_BANK_TYPE  \\\n",
       "0          L       A     TO1           A           AT               A   \n",
       "\n",
       "  L_REP_CTY L_CP_SECTOR L_CP_COUNTRY L_POS_TYPE  \n",
       "0        5A           A           AT          N  "
      ]
     },
     "execution_count": 58,
     "metadata": {},
     "output_type": "execute_result"
    }
   ],
   "source": [
    "liability_df.head(1)"
   ]
  },
  {
   "cell_type": "code",
   "execution_count": 79,
   "metadata": {},
   "outputs": [],
   "source": [
    "oecd_imfcclist = [x['imfnumeric'] for x in mgclient.lbsdot.countrytable.find({'iso2':{'$in':oecd_cclist}})]\n",
    "oecd_imfcclist = [str(x) for x in oecd_imfcclist]\n",
    "imfisocc_map = dict()\n",
    "for x in mgclient.lbsdot.countrytable.find({'iso2':{'$in':oecd_cclist}}):\n",
    "    imfisocc_map[str(x['imfnumeric'])] = x['iso2']"
   ]
  },
  {
   "cell_type": "code",
   "execution_count": 105,
   "metadata": {},
   "outputs": [],
   "source": [
    "dotbalance_iter = mgclient.lbsdot.raw_dot.find({\n",
    "    'freq': 'Q',\n",
    "    'Country Code': {'$in': oecd_imfcclist},\n",
    "    'Indicator Code': 'TBG_USD',\n",
    "    'Counterpart Country Code': {'$in': oecd_imfcclist}\n",
    "})"
   ]
  },
  {
   "cell_type": "code",
   "execution_count": 106,
   "metadata": {},
   "outputs": [],
   "source": [
    "dotbalance_df = pd.DataFrame(list(dotbalance_iter))"
   ]
  },
  {
   "cell_type": "code",
   "execution_count": 107,
   "metadata": {},
   "outputs": [
    {
     "data": {
      "text/html": [
       "<div>\n",
       "<style scoped>\n",
       "    .dataframe tbody tr th:only-of-type {\n",
       "        vertical-align: middle;\n",
       "    }\n",
       "\n",
       "    .dataframe tbody tr th {\n",
       "        vertical-align: top;\n",
       "    }\n",
       "\n",
       "    .dataframe thead th {\n",
       "        text-align: right;\n",
       "    }\n",
       "</style>\n",
       "<table border=\"1\" class=\"dataframe\">\n",
       "  <thead>\n",
       "    <tr style=\"text-align: right;\">\n",
       "      <th></th>\n",
       "      <th>_id</th>\n",
       "      <th>Country Name</th>\n",
       "      <th>Country Code</th>\n",
       "      <th>Indicator Name</th>\n",
       "      <th>Indicator Code</th>\n",
       "      <th>Counterpart Country Name</th>\n",
       "      <th>Counterpart Country Code</th>\n",
       "      <th>freq</th>\n",
       "      <th>timeseries</th>\n",
       "    </tr>\n",
       "  </thead>\n",
       "  <tbody>\n",
       "    <tr>\n",
       "      <th>0</th>\n",
       "      <td>5d386cee1ce487b9eba5b302</td>\n",
       "      <td>Austria</td>\n",
       "      <td>122</td>\n",
       "      <td>Goods, Value of Trade Balance, US Dollars</td>\n",
       "      <td>TBG_USD</td>\n",
       "      <td>France</td>\n",
       "      <td>132</td>\n",
       "      <td>Q</td>\n",
       "      <td>[[19600331, -8300000.0], [19600630, -8500000.0...</td>\n",
       "    </tr>\n",
       "  </tbody>\n",
       "</table>\n",
       "</div>"
      ],
      "text/plain": [
       "                        _id Country Name Country Code  \\\n",
       "0  5d386cee1ce487b9eba5b302      Austria          122   \n",
       "\n",
       "                              Indicator Name Indicator Code  \\\n",
       "0  Goods, Value of Trade Balance, US Dollars        TBG_USD   \n",
       "\n",
       "  Counterpart Country Name Counterpart Country Code freq  \\\n",
       "0                   France                      132    Q   \n",
       "\n",
       "                                          timeseries  \n",
       "0  [[19600331, -8300000.0], [19600630, -8500000.0...  "
      ]
     },
     "execution_count": 107,
     "metadata": {},
     "output_type": "execute_result"
    }
   ],
   "source": [
    "dotbalance_df.head(1)"
   ]
  },
  {
   "cell_type": "code",
   "execution_count": 48,
   "metadata": {},
   "outputs": [],
   "source": [
    "# Save dataframe to pickle files\n",
    "liability_df.to_pickle('../data/liability_df.pkl')\n",
    "dotbalance_df.to_pickle('../data/dotbalance_df.pkl')"
   ]
  },
  {
   "cell_type": "markdown",
   "metadata": {},
   "source": [
    "### Convert to time series"
   ]
  },
  {
   "cell_type": "code",
   "execution_count": 9,
   "metadata": {},
   "outputs": [
    {
     "data": {
      "text/html": [
       "<div>\n",
       "<style scoped>\n",
       "    .dataframe tbody tr th:only-of-type {\n",
       "        vertical-align: middle;\n",
       "    }\n",
       "\n",
       "    .dataframe tbody tr th {\n",
       "        vertical-align: top;\n",
       "    }\n",
       "\n",
       "    .dataframe thead th {\n",
       "        text-align: right;\n",
       "    }\n",
       "</style>\n",
       "<table border=\"1\" class=\"dataframe\">\n",
       "  <thead>\n",
       "    <tr style=\"text-align: right;\">\n",
       "      <th></th>\n",
       "      <th>_id</th>\n",
       "      <th>timeseries</th>\n",
       "      <th>FREQ</th>\n",
       "      <th>L_MEASURE</th>\n",
       "      <th>L_POSITION</th>\n",
       "      <th>L_INSTR</th>\n",
       "      <th>L_DENOM</th>\n",
       "      <th>L_CURR_TYPE</th>\n",
       "      <th>L_PARENT_CTY</th>\n",
       "      <th>L_REP_BANK_TYPE</th>\n",
       "      <th>L_REP_CTY</th>\n",
       "      <th>L_CP_SECTOR</th>\n",
       "      <th>L_CP_COUNTRY</th>\n",
       "      <th>L_POS_TYPE</th>\n",
       "    </tr>\n",
       "  </thead>\n",
       "  <tbody>\n",
       "    <tr>\n",
       "      <th>0</th>\n",
       "      <td>5d3ed151e5c38b7bc2664030</td>\n",
       "      <td>[[20120630, 5445.263], [20120930, 6194.032], [...</td>\n",
       "      <td>Q</td>\n",
       "      <td>S</td>\n",
       "      <td>C</td>\n",
       "      <td>A</td>\n",
       "      <td>TO1</td>\n",
       "      <td>A</td>\n",
       "      <td>AT</td>\n",
       "      <td>A</td>\n",
       "      <td>5A</td>\n",
       "      <td>A</td>\n",
       "      <td>AT</td>\n",
       "      <td>N</td>\n",
       "    </tr>\n",
       "  </tbody>\n",
       "</table>\n",
       "</div>"
      ],
      "text/plain": [
       "                        _id  \\\n",
       "0  5d3ed151e5c38b7bc2664030   \n",
       "\n",
       "                                          timeseries FREQ L_MEASURE  \\\n",
       "0  [[20120630, 5445.263], [20120930, 6194.032], [...    Q         S   \n",
       "\n",
       "  L_POSITION L_INSTR L_DENOM L_CURR_TYPE L_PARENT_CTY L_REP_BANK_TYPE  \\\n",
       "0          C       A     TO1           A           AT               A   \n",
       "\n",
       "  L_REP_CTY L_CP_SECTOR L_CP_COUNTRY L_POS_TYPE  \n",
       "0        5A           A           AT          N  "
      ]
     },
     "execution_count": 9,
     "metadata": {},
     "output_type": "execute_result"
    }
   ],
   "source": [
    "claim_df.head(1)"
   ]
  },
  {
   "cell_type": "code",
   "execution_count": 90,
   "metadata": {},
   "outputs": [],
   "source": [
    "def convert_timeseries(df, frcol, tocol, data ='lbs'):\n",
    "    res = list()\n",
    "    for i in range(df.shape[0]):\n",
    "        raw = df.iloc[i,:]\n",
    "        values = [x[1] for x in raw.timeseries]\n",
    "        if len(values) < 10: # drop if number of values is less 10\n",
    "            continue\n",
    "        dates = [x[0] for x in raw.timeseries]\n",
    "        if raw[frcol] == raw[tocol]:\n",
    "            continue\n",
    "        if data == 'dot':\n",
    "            frto = imfisocc_map[raw[frcol]] + imfisocc_map[raw[tocol]]\n",
    "        else:\n",
    "            frto = raw[frcol] + raw[tocol]\n",
    "        res.append(pd.Series(values, pd.to_datetime(dates, format='%Y%m%d'), name=frto))\n",
    "        \n",
    "    return pd.DataFrame(res).transpose()"
   ]
  },
  {
   "cell_type": "code",
   "execution_count": 97,
   "metadata": {},
   "outputs": [],
   "source": [
    "df_lbs_clam = convert_timeseries(claim_df,'L_PARENT_CTY', 'L_CP_COUNTRY')\n",
    "df_lbs_liab = convert_timeseries(liability_df,'L_PARENT_CTY', 'L_CP_COUNTRY')"
   ]
  },
  {
   "cell_type": "code",
   "execution_count": 76,
   "metadata": {},
   "outputs": [],
   "source": [
    "intersect_cols = list(set(df_lbs_clam.columns) & set(df_lbs_liab.columns))\n",
    "df_lbs_bal = df_lbs_clam[intersect_cols] - df_lbs_liab[intersect_cols]"
   ]
  },
  {
   "cell_type": "code",
   "execution_count": 108,
   "metadata": {},
   "outputs": [],
   "source": [
    "df_dot_bal = convert_timeseries(dotbalance_df, 'Country Code','Counterpart Country Code', data ='dot')\n",
    "df_dot_bal = df_dot_bal[intersect_cols]"
   ]
  },
  {
   "cell_type": "code",
   "execution_count": 111,
   "metadata": {},
   "outputs": [],
   "source": [
    "df_lbs_bal.to_pickle('../data/df_lbs_bal.pkl')\n",
    "df_dot_bal.to_pickle('../data/df_dot_bal.pkl')"
   ]
  },
  {
   "cell_type": "code",
   "execution_count": 103,
   "metadata": {},
   "outputs": [
    {
     "data": {
      "text/plain": [
       "(63, 765)"
      ]
     },
     "execution_count": 103,
     "metadata": {},
     "output_type": "execute_result"
    }
   ],
   "source": []
  }
 ],
 "metadata": {
  "kernelspec": {
   "display_name": "Python 3",
   "language": "python",
   "name": "python3"
  },
  "language_info": {
   "codemirror_mode": {
    "name": "ipython",
    "version": 3
   },
   "file_extension": ".py",
   "mimetype": "text/x-python",
   "name": "python",
   "nbconvert_exporter": "python",
   "pygments_lexer": "ipython3",
   "version": "3.7.3"
  }
 },
 "nbformat": 4,
 "nbformat_minor": 2
}
