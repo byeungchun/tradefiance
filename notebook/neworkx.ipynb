{
 "cells": [
  {
   "cell_type": "code",
   "execution_count": 1,
   "metadata": {},
   "outputs": [],
   "source": [
    "import pandas as pd\n",
    "import networkx as nx"
   ]
  },
  {
   "cell_type": "markdown",
   "metadata": {},
   "source": [
    "### Loading data"
   ]
  },
  {
   "cell_type": "code",
   "execution_count": 26,
   "metadata": {},
   "outputs": [],
   "source": [
    "df_lbsdot = pd.read_excel(r'e:/temp/tot_nt_df.xlsx','QOQ')\n",
    "df_lbsdot_18Q4 = df_lbsdot[df_lbsdot.date == 20181231]\n",
    "cc = set(df_lbsdot_18Q4[['frcc','tocc']].stack())"
   ]
  },
  {
   "cell_type": "code",
   "execution_count": null,
   "metadata": {},
   "outputs": [],
   "source": []
  },
  {
   "cell_type": "markdown",
   "metadata": {},
   "source": [
    "### Generating Graph"
   ]
  },
  {
   "cell_type": "code",
   "execution_count": 72,
   "metadata": {},
   "outputs": [],
   "source": [
    "g_trade = nx.DiGraph()\n",
    "g_lbs = nx.DiGraph()"
   ]
  },
  {
   "cell_type": "code",
   "execution_count": 45,
   "metadata": {},
   "outputs": [],
   "source": [
    "# A way to add edge\n",
    "# for x in df_lbsdot_18Q4.index:\n",
    "#     g_trade.add_edge(df_lbsdot_18Q4.loc[x,'frcc'],df_lbsdot_18Q4.loc[x,'tocc'],weight=df_lbsdot_18Q4.loc[x,'trdval'])\n",
    "#     g_lbs.add _edge(df_lbsdot_18Q4.loc[x,'frcc'],df_lbsdot_18Q4.loc[x,'tocc'],weight=df_lbsdot_18Q4.loc[x,'finval'])    "
   ]
  },
  {
   "cell_type": "code",
   "execution_count": 73,
   "metadata": {},
   "outputs": [],
   "source": [
    "g_trade.add_weighted_edges_from(list(df_lbsdot_18Q4.apply(lambda x: (x['frcc'], x['tocc'], x['trdval']),axis=1)))\n",
    "g_lbs.add_weighted_edges_from(list(df_lbsdot_18Q4.apply(lambda x: (x['frcc'], x['tocc'], x['finval']),axis=1)))"
   ]
  },
  {
   "cell_type": "code",
   "execution_count": 74,
   "metadata": {},
   "outputs": [
    {
     "data": {
      "text/plain": [
       "DiDegreeView({'FR': 55, 'EE': 20, 'IE': 52, 'SK': 23, 'TR': 53, 'AU': 55, 'SI': 23, 'IT': 55, 'PT': 54, 'CA': 56, 'IL': 23, 'HU': 23, 'DK': 55, 'LU': 54, 'LV': 23, 'SE': 55, 'GB': 56, 'ES': 56, 'JP': 56, 'GR': 51, 'AT': 54, 'US': 56, 'FI': 55, 'NL': 56, 'DE': 56, 'NO': 55, 'PL': 23, 'BE': 55, 'KR': 53, 'CL': 40, 'MX': 30, 'CH': 56, 'CZ': 23})"
      ]
     },
     "execution_count": 74,
     "metadata": {},
     "output_type": "execute_result"
    }
   ],
   "source": [
    "g_lbs.degree()"
   ]
  },
  {
   "cell_type": "code",
   "execution_count": 75,
   "metadata": {},
   "outputs": [
    {
     "data": {
      "text/plain": [
       "DiDegreeView({'FR': 5.2846207863244175, 'EE': 2.0991054714366144, 'IE': 33.102974393669754, 'SK': 42.40032613750402, 'TR': 40.60123852459347, 'AU': 4.816237786228944, 'SI': -0.1694064094761567, 'IT': 0.7509272714635749, 'PT': 7.204000365156265, 'CA': 15.311491524898965, 'IL': -21.727527735674578, 'HU': 33.03822587042275, 'DK': 40.5668440172293, 'LU': 22.235436936971546, 'LV': 4.2468611866189185, 'SE': 28.337122699349603, 'GB': -7.896850437515111, 'ES': -4.848971634237653, 'JP': 113.70567564678404, 'GR': 199.73992126572492, 'AT': 20.216016566093934, 'US': -10.731566847770182, 'FI': 5791.103418388932, 'NL': 5.090525363482963, 'DE': 3.097896261534359, 'NO': 130.69707488201914, 'PL': -10.523008764254474, 'BE': -21.425628045591388, 'KR': 4.3753231838396225, 'CL': 103.8144114258902, 'MX': 5386.484013857133, 'CH': -1.3760631040837923, 'CZ': -4.288974287499701})"
      ]
     },
     "execution_count": 75,
     "metadata": {},
     "output_type": "execute_result"
    }
   ],
   "source": [
    "g_lbs.degree(weight='weight')"
   ]
  },
  {
   "cell_type": "code",
   "execution_count": 76,
   "metadata": {},
   "outputs": [
    {
     "data": {
      "text/plain": [
       "OutDegreeView({'FR': 10.980406162156108, 'EE': 0, 'IE': 29.259033822343852, 'SK': 0, 'TR': 12.751237466217113, 'AU': 1.6584561625399834, 'SI': 0, 'IT': 1.7235328835884705, 'PT': 0.11660723183877597, 'CA': 20.74936566354018, 'IL': 0, 'HU': 0, 'DK': -1.2274281557035815, 'LU': 12.764618715256423, 'LV': 0, 'SE': 5.264292705051627, 'GB': -5.407202635769063, 'ES': -7.73820365580809, 'JP': 1.4166966885963048, 'GR': 27.543758399419364, 'AT': 32.25407580467737, 'US': 2.361868747653781, 'FI': 5751.4908608365595, 'NL': -5.338357631033889, 'DE': 12.66783702490272, 'NO': 91.99086426022681, 'PL': 0, 'BE': -13.124090932166169, 'KR': 2.6638299278712143, 'CL': 9.730891587378226, 'MX': -16.299044219304335, 'CH': -0.5880605864330519, 'CZ': 0})"
      ]
     },
     "execution_count": 76,
     "metadata": {},
     "output_type": "execute_result"
    }
   ],
   "source": [
    "g_lbs.out_degree(weight='weight')"
   ]
  },
  {
   "cell_type": "code",
   "execution_count": 77,
   "metadata": {},
   "outputs": [
    {
     "data": {
      "text/plain": [
       "InDegreeView({'FR': -5.69578537583169, 'EE': 2.0991054714366144, 'IE': 3.8439405713259016, 'SK': 42.40032613750402, 'TR': 27.850001058376353, 'AU': 3.157781623688961, 'SI': -0.1694064094761567, 'IT': -0.9726056121248956, 'PT': 7.087393133317489, 'CA': -5.437874138641214, 'IL': -21.727527735674578, 'HU': 33.03822587042275, 'DK': 41.794272172932885, 'LU': 9.47081822171512, 'LV': 4.2468611866189185, 'SE': 23.072829994297976, 'GB': -2.489647801746048, 'ES': 2.8892320215704372, 'JP': 112.28897895818774, 'GR': 172.19616286630554, 'AT': -12.038059238583438, 'US': -13.093435595423962, 'FI': 39.612557552373104, 'NL': 10.428882994516853, 'DE': -9.569940763368361, 'NO': 38.70621062179232, 'PL': -10.523008764254474, 'BE': -8.30153711342522, 'KR': 1.7114932559684086, 'CL': 94.08351983851198, 'MX': 5402.783058076437, 'CH': -0.7880025176507404, 'CZ': -4.288974287499701})"
      ]
     },
     "execution_count": 77,
     "metadata": {},
     "output_type": "execute_result"
    }
   ],
   "source": [
    "g_lbs.in_degree(weight='weight')"
   ]
  },
  {
   "cell_type": "code",
   "execution_count": null,
   "metadata": {},
   "outputs": [],
   "source": []
  }
 ],
 "metadata": {
  "kernelspec": {
   "display_name": "Python 3",
   "language": "python",
   "name": "python3"
  },
  "language_info": {
   "codemirror_mode": {
    "name": "ipython",
    "version": 3
   },
   "file_extension": ".py",
   "mimetype": "text/x-python",
   "name": "python",
   "nbconvert_exporter": "python",
   "pygments_lexer": "ipython3",
   "version": "3.7.3"
  }
 },
 "nbformat": 4,
 "nbformat_minor": 2
}
