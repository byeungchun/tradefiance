{
 "cells": [
  {
   "cell_type": "code",
   "execution_count": 16,
   "metadata": {},
   "outputs": [],
   "source": [
    "from lbsdot.xmlparser import getCodelist, getKeyfamilies"
   ]
  },
  {
   "cell_type": "code",
   "execution_count": 17,
   "metadata": {},
   "outputs": [],
   "source": [
    "bisdsd = r'E:\\data\\ibfs\\meta\\BIS-DSD.20.xml'"
   ]
  },
  {
   "cell_type": "code",
   "execution_count": 18,
   "metadata": {},
   "outputs": [],
   "source": [
    "kf = getKeyfamilies(bisdsd)"
   ]
  },
  {
   "cell_type": "code",
   "execution_count": 21,
   "metadata": {},
   "outputs": [
    {
     "data": {
      "text/plain": [
       "dict_keys(['BIS_CBPOL', 'BIS_CBS', 'BIS_CPSS_INSTR', 'BIS_CPSS_SEC', 'BIS_CPSS_SYST', 'BIS_CREDIT_GAP', 'BIS_DEBT_SEC', 'BIS_DEBT_SEC2', 'BIS_DER', 'BIS_DSR', 'BIS_EER', 'BIS_GLI', 'BIS_JOINT_DEBT', 'BIS_LBP', 'BIS_LBS_DISS', 'BIS_LONG_CPI', 'BIS_LONG_PP', 'BIS_L_HIST', 'BIS_MACRO', 'BIS_MS', 'BIS_M_CIBL', 'BIS_M_IBLN', 'BIS_M_IBLR', 'BIS_OTC_DERIV', 'BIS_OTC_DERIV_H', 'BIS_PROP_PRICES', 'BIS_SEC_NB', 'BIS_SELECTED_PP', 'BIS_SYN_CRED', 'BIS_TOTAL_CREDIT2', 'BIS_XR', 'BIS_XTD_DERIV', 'CPMI_CASHLESS', 'CPMI_DEVICES', 'CPMI_INSTITUTIONS', 'CPMI_PARTICIPANTS', 'CPMI_SYSTEMS', 'I2A_CBS', 'I2A_CIBL', 'I2A_D', 'I2A_G'])"
      ]
     },
     "execution_count": 21,
     "metadata": {},
     "output_type": "execute_result"
    }
   ],
   "source": [
    "kf.keys()"
   ]
  },
  {
   "cell_type": "code",
   "execution_count": 23,
   "metadata": {},
   "outputs": [
    {
     "data": {
      "text/plain": [
       "{'agencyid': 'BIS',\n",
       " 'urn': 'urn:sdmx:org.sdmx.infomodel.datastructure.DataStructure=BIS:BIS_LBS_DISS(1.0)',\n",
       " 'version': '1.0',\n",
       " 'name': <Element '{http://www.SDMX.org/resources/SDMXML/schemas/v2_0/structure}Name' at 0x1902eac8>,\n",
       " 'dimension': ['CL_FREQ',\n",
       "  'CL_STOCK_FLOW',\n",
       "  'CL_L_POSITION',\n",
       "  'CL_L_INSTR',\n",
       "  'CL_CURRENCY_3POS',\n",
       "  'CL_L_CURR_TYPE',\n",
       "  'CL_BIS_IF_REF_AREA',\n",
       "  'CL_L_BANK_TYPE',\n",
       "  'CL_BIS_IF_REF_AREA',\n",
       "  'CL_L_SECTOR',\n",
       "  'CL_BIS_IF_REF_AREA',\n",
       "  'CL_L_POS_TYPE']}"
      ]
     },
     "execution_count": 23,
     "metadata": {},
     "output_type": "execute_result"
    }
   ],
   "source": [
    "kf['BIS_LBS_DISS']"
   ]
  },
  {
   "cell_type": "code",
   "execution_count": null,
   "metadata": {},
   "outputs": [],
   "source": []
  }
 ],
 "metadata": {
  "kernelspec": {
   "display_name": "Python 3",
   "language": "python",
   "name": "python3"
  },
  "language_info": {
   "codemirror_mode": {
    "name": "ipython",
    "version": 3
   },
   "file_extension": ".py",
   "mimetype": "text/x-python",
   "name": "python",
   "nbconvert_exporter": "python",
   "pygments_lexer": "ipython3",
   "version": "3.7.3"
  }
 },
 "nbformat": 4,
 "nbformat_minor": 2
}
